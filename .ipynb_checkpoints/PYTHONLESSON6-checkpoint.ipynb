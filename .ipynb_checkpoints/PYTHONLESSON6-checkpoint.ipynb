{
 "cells": [
  {
   "cell_type": "markdown",
   "metadata": {},
   "source": [
    "### Задание 1"
   ]
  },
  {
   "cell_type": "code",
   "execution_count": 5,
   "metadata": {},
   "outputs": [
    {
     "name": "stdout",
     "output_type": "stream",
     "text": [
      "2002-10-02 00:00:00\n",
      "2013-10-11 00:00:00\n",
      "1977-08-18 00:00:00\n"
     ]
    }
   ],
   "source": [
    "from datetime import datetime\n",
    "\n",
    "The_Moscow_Times = 'Wednesday, October 2, 2002'\n",
    "The_Guardian = 'Friday, 11.10.13'\n",
    "Daily_News = 'Thursday, 18 August 1977'\n",
    "\n",
    "date_TMT = datetime.strptime( The_Moscow_Times, '%A, %B %d, %Y' )\n",
    "date_TG = datetime.strptime( The_Guardian, '%A, %d.%m.%y' )\n",
    "date_ВТ = datetime.strptime( Daily_News, '%A, %d %B %Y' )\n",
    "\n",
    "print(date_TMT)\n",
    "print(date_TG)\n",
    "print(date_ВТ)"
   ]
  },
  {
   "cell_type": "markdown",
   "metadata": {},
   "source": [
    "### Задание 2"
   ]
  },
  {
   "cell_type": "code",
   "execution_count": 18,
   "metadata": {},
   "outputs": [
    {
     "name": "stdout",
     "output_type": "stream",
     "text": [
      "True\n",
      "False\n",
      "False\n"
     ]
    }
   ],
   "source": [
    "from datetime import datetime\n",
    "stream = ['2018-04-02', '2018-02-29', '2018-19-02']\n",
    "\n",
    "def checkdate(x):\n",
    "    for item in x:\n",
    "        try:\n",
    "            item == datetime.strptime( item, '%Y-%m-%d' )\n",
    "            print('True')\n",
    "        except ValueError:\n",
    "            print('False')\n",
    "\n",
    "checkdate(stream)"
   ]
  },
  {
   "cell_type": "markdown",
   "metadata": {},
   "source": [
    "### Задание 3"
   ]
  },
  {
   "cell_type": "code",
   "execution_count": 26,
   "metadata": {},
   "outputs": [
    {
     "name": "stdout",
     "output_type": "stream",
     "text": [
      "Введите дату начала периода (YYYY-MM-DD): 2020-05-06\n",
      "Введите дату конца периода (YYYY-MM-DD): 2020-05-01\n"
     ]
    }
   ],
   "source": [
    "from datetime import datetime\n",
    "from datetime import timedelta\n",
    "def data_range():\n",
    "    date_start = input('Введите дату начала периода (YYYY-MM-DD): ')\n",
    "    date_end = input('Введите дату конца периода (YYYY-MM-DD): ')\n",
    "    try:\n",
    "        valid_date_start = datetime.strptime(date_start, '%Y-%m-%d')\n",
    "        valid_date_end = datetime.strptime(date_end, '%Y-%m-%d')\n",
    "        current_date = valid_date_start\n",
    "        while current_date <= valid_date_end:\n",
    "            print(current_date.strftime('%Y-%m-%d'))\n",
    "            current_date += timedelta(days=1)\n",
    "    except ValueError:\n",
    "        print(' ')\n",
    "        \n",
    "data_range()"
   ]
  },
  {
   "cell_type": "code",
   "execution_count": null,
   "metadata": {},
   "outputs": [],
   "source": []
  },
  {
   "cell_type": "code",
   "execution_count": null,
   "metadata": {},
   "outputs": [],
   "source": []
  }
 ],
 "metadata": {
  "kernelspec": {
   "display_name": "Python 3",
   "language": "python",
   "name": "python3"
  },
  "language_info": {
   "codemirror_mode": {
    "name": "ipython",
    "version": 3
   },
   "file_extension": ".py",
   "mimetype": "text/x-python",
   "name": "python",
   "nbconvert_exporter": "python",
   "pygments_lexer": "ipython3",
   "version": "3.8.3"
  }
 },
 "nbformat": 4,
 "nbformat_minor": 4
}
